{
  "nbformat": 4,
  "nbformat_minor": 0,
  "metadata": {
    "colab": {
      "name": "mpl.ipynb",
      "provenance": []
    },
    "kernelspec": {
      "name": "python3",
      "display_name": "Python 3"
    }
  },
  "cells": [
    {
      "cell_type": "code",
      "metadata": {
        "id": "MlPawtx6R6Kn",
        "colab_type": "code",
        "colab": {}
      },
      "source": [
        "#импорт необходимых библиотек\n",
        "import numpy as np\n",
        "import matplotlib.pyplot as plt\n",
        "import matplotlib as mpl"
      ],
      "execution_count": 0,
      "outputs": []
    },
    {
      "cell_type": "code",
      "metadata": {
        "id": "vmsDUc1jjU7G",
        "colab_type": "code",
        "colab": {}
      },
      "source": [
        "#фиксируем стартовое значение для воспроизводимости результатов\n",
        "np.random.seed(32)"
      ],
      "execution_count": 0,
      "outputs": []
    },
    {
      "cell_type": "code",
      "metadata": {
        "id": "7qKDEct6m3Wq",
        "colab_type": "code",
        "colab": {}
      },
      "source": [
        "#генерируем иксы\n",
        "t=np.linspace(1, 28, 100)"
      ],
      "execution_count": 0,
      "outputs": []
    },
    {
      "cell_type": "code",
      "metadata": {
        "id": "_7rvpm-4n54z",
        "colab_type": "code",
        "colab": {}
      },
      "source": [
        "#генерируем случайные коэффициенты и получаем значения функций\n",
        "first=[np.random.random(),np.random.random(), np.random.randint(-10, 0)]\n",
        "second=[np.random.random(), np.random.random(), np.random.randint(0,5), np.random.random(), np.random.randint(0,10)]\n",
        "third=[np.random.random(), np.random.randint(11,20)]\n",
        "ans1=first[0]*(first[1]*t)**(1/3)+first[2]\n",
        "ans2=second[0]*np.sin(second[1]*t)+second[2]*np.cos(second[3]*t)+second[4]\n",
        "ans3=third[0]*t**(1/3)+third[1]"
      ],
      "execution_count": 0,
      "outputs": []
    },
    {
      "cell_type": "code",
      "metadata": {
        "id": "YU8CFW-7ol3t",
        "colab_type": "code",
        "colab": {
          "base_uri": "https://localhost:8080/",
          "height": 279
        },
        "outputId": "1739f04a-7b4d-4082-e778-8c3bc6c70564"
      },
      "source": [
        "#настраиваем стиль линии\n",
        "mpl.rc('lines', linewidth=6, linestyle='--')\n",
        "#подписываем оси\n",
        "plt.xlabel('ApF')\n",
        "plt.ylabel('r00')\n",
        "#строим графики и подписываем их на основе последней точки\n",
        "plt.plot(t, ans1, color='orange')\n",
        "plt.text(t[-1]-3, ans1[-1]+1, 'third line', fontdict=dict(color='orange'))\n",
        "plt.plot(t,ans2, color='blue')\n",
        "plt.text(t[-1]-4, ans2[-1]+1, 'second line', fontdict=dict(color='blue'))\n",
        "plt.plot(t,ans3, color='red')\n",
        "plt.text(t[-1]-3, ans3[-1]-1, 'first line', fontdict=dict(color='red'))\n",
        "plt.show()"
      ],
      "execution_count": 286,
      "outputs": [
        {
          "output_type": "display_data",
          "data": {
            "image/png": "[encoded data removed]",
            "text/plain": [
              "<Figure size 432x288 with 1 Axes>"
            ]
          },
          "metadata": {
            "tags": [],
            "needs_background": "light"
          }
        }
      ]
    },
    {
      "cell_type": "code",
      "metadata": {
        "id": "JyeqZx_tjNCt",
        "colab_type": "code",
        "colab": {}
      },
      "source": [
        ""
      ],
      "execution_count": 0,
      "outputs": []
    }
  ]
}